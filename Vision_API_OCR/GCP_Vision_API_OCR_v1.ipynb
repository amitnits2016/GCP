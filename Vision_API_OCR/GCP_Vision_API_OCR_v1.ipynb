{
  "nbformat": 4,
  "nbformat_minor": 0,
  "metadata": {
    "colab": {
      "name": "GCP_Vision_API_OCR_v1.ipynb",
      "provenance": [],
      "mount_file_id": "1p1_N-DXDaK3bkRDUNDAazfATxGzA23Ue",
      "authorship_tag": "ABX9TyOvqyJvg2ZqkPGnPL/YOL87",
      "include_colab_link": true
    },
    "kernelspec": {
      "name": "python3",
      "display_name": "Python 3"
    }
  },
  "cells": [
    {
      "cell_type": "markdown",
      "metadata": {
        "id": "view-in-github",
        "colab_type": "text"
      },
      "source": [
        "<a href=\"https://colab.research.google.com/github/amitnits2016/GCP/blob/master/Vision_API_OCR/GCP_Vision_API_OCR_v1.ipynb\" target=\"_parent\"><img src=\"https://colab.research.google.com/assets/colab-badge.svg\" alt=\"Open In Colab\"/></a>"
      ]
    },
    {
      "cell_type": "code",
      "metadata": {
        "id": "oVd_J4SnzMLh",
        "colab_type": "code",
        "colab": {}
      },
      "source": [
        "# !pip install google-cloud-vision"
      ],
      "execution_count": 1,
      "outputs": []
    }
  ]
}